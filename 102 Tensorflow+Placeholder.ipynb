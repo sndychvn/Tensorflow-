{
 "cells": [
  {
   "cell_type": "code",
   "execution_count": 1,
   "metadata": {
    "collapsed": true
   },
   "outputs": [],
   "source": [
    "import tensorflow as tf"
   ]
  },
  {
   "cell_type": "code",
   "execution_count": 3,
   "metadata": {
    "collapsed": true
   },
   "outputs": [],
   "source": [
    "x1 = tf.placeholder(dtype=tf.float32, shape=None)\n",
    "y1 = tf.placeholder(dtype=tf.float32, shape=None)\n",
    "z1 = x1 + y1"
   ]
  },
  {
   "cell_type": "code",
   "execution_count": 4,
   "metadata": {
    "collapsed": true
   },
   "outputs": [],
   "source": [
    "x2 = tf.placeholder(dtype=tf.float32, shape=[2,1])\n",
    "y2 = tf.placeholder(dtype=tf.float32, shape=[1,2])\n",
    "z2 = tf.matmul(x2,y2)"
   ]
  },
  {
   "cell_type": "code",
   "execution_count": 10,
   "metadata": {
    "collapsed": false
   },
   "outputs": [
    {
     "name": "stdout",
     "output_type": "stream",
     "text": [
      "3.0\n",
      "[[ 6.  6.]\n",
      " [ 6.  6.]]\n"
     ]
    }
   ],
   "source": [
    "with tf.Session() as sess:\n",
    "    #for one operation to run\n",
    "    z1_value = sess.run(z1, feed_dict={x1: 1, y1: 2})\n",
    "    \n",
    "    #for multiple operations\n",
    "    z1_value, z2_value = sess.run(\n",
    "        [z1,z2],  #run them together\n",
    "        feed_dict={\n",
    "            x1: 1, y1: 2,\n",
    "            x2: [[2],[2]], y2: [[3,3]]\n",
    "        })\n",
    "    print(z1_value)\n",
    "    print(z2_value)"
   ]
  },
  {
   "cell_type": "code",
   "execution_count": null,
   "metadata": {
    "collapsed": true
   },
   "outputs": [],
   "source": []
  }
 ],
 "metadata": {
  "kernelspec": {
   "display_name": "Python 3",
   "language": "python",
   "name": "python3"
  },
  "language_info": {
   "codemirror_mode": {
    "name": "ipython",
    "version": 3
   },
   "file_extension": ".py",
   "mimetype": "text/x-python",
   "name": "python",
   "nbconvert_exporter": "python",
   "pygments_lexer": "ipython3",
   "version": "3.5.2"
  }
 },
 "nbformat": 4,
 "nbformat_minor": 2
}
